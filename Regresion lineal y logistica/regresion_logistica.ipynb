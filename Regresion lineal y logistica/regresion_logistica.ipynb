{
 "cells": [
  {
   "cell_type": "markdown",
   "source": "# Regresión Logística",
   "metadata": {
    "tags": [],
    "is_collapsed": false,
    "cell_id": "00000-94fb23da-15f9-4be6-b330-4aa10c9be84d",
    "deepnote_cell_type": "text-cell-h1"
   }
  },
  {
   "cell_type": "markdown",
   "source": "Regresión logística está dentro de los algoritmos de regresión (y supervisados) y sirve para predecir si un evento ocurrirá o no. A esto lo podemos interpretar como verdadero/falso, sí/no, 1/0. El objetivo es encontrar una curva que mejor separe los datos. Un ejemplo sería la probabilidad de que un alumno apruebe un examen dadas las horas que estudió. Al final, buscamos un aprobó o no aprobó.\n\n![](https://upload.wikimedia.org/wikipedia/commons/6/6d/Exam_pass_logistic_curve.jpeg)",
   "metadata": {
    "tags": [],
    "cell_id": "00001-e8c462a5-b972-45a4-a943-47ebb4c6f503",
    "deepnote_cell_type": "markdown"
   }
  },
  {
   "cell_type": "markdown",
   "source": "## División de datos",
   "metadata": {
    "tags": [],
    "is_collapsed": false,
    "cell_id": "00002-f3d74a5e-338b-4fbe-bcb2-2ea5d26828a7",
    "deepnote_cell_type": "text-cell-h2"
   }
  },
  {
   "cell_type": "markdown",
   "source": "Para nuestro ejemplo usaremos un dataset de pacientes con diabetes. El objetivo será predecir si algún paciente tiene diabetes dadas sus características.\n\nLink de descarga del dataset: https://static.platzi.com/media/public/uploads/diabetes_e5df1a05-5634-44ce-91df-7bc6143aa93e.csv",
   "metadata": {
    "tags": [],
    "cell_id": "00003-926e8e45-93d7-44c8-8cf9-dbe7cea80c69",
    "deepnote_cell_type": "markdown"
   }
  },
  {
   "cell_type": "code",
   "source": "import pandas as pd\nimport matplotlib.pyplot as plt\nimport seaborn as sns\nfrom sklearn import metrics\nfrom sklearn.model_selection import train_test_split\nfrom sklearn.linear_model import LogisticRegression",
   "metadata": {
    "tags": [],
    "cell_id": "00004-2611e685-e068-4faf-a415-7de6d455f799",
    "deepnote_to_be_reexecuted": false,
    "source_hash": "6e601ea5",
    "execution_start": 1632757591842,
    "execution_millis": 729,
    "deepnote_cell_type": "code"
   },
   "outputs": [],
   "execution_count": null
  },
  {
   "cell_type": "code",
   "source": "diabetes = pd.read_csv('/work/datasets/diabetes.csv')\ndiabetes.head()",
   "metadata": {
    "tags": [],
    "cell_id": "00005-fb90e445-72e5-4219-821d-7d9b6d28f6d0",
    "deepnote_to_be_reexecuted": false,
    "source_hash": "6b6da994",
    "execution_start": 1632757648219,
    "execution_millis": 44,
    "deepnote_cell_type": "code"
   },
   "outputs": [
    {
     "output_type": "execute_result",
     "execution_count": 2,
     "data": {
      "application/vnd.deepnote.dataframe.v2+json": {
       "row_count": 5,
       "column_count": 9,
       "columns": [
        {
         "name": "Pregnancies",
         "dtype": "int64",
         "stats": {
          "unique_count": 4,
          "nan_count": 0,
          "min": "0",
          "max": "8",
          "histogram": [
           {
            "bin_start": 0,
            "bin_end": 0.8,
            "count": 1
           },
           {
            "bin_start": 0.8,
            "bin_end": 1.6,
            "count": 2
           },
           {
            "bin_start": 1.6,
            "bin_end": 2.4000000000000004,
            "count": 0
           },
           {
            "bin_start": 2.4000000000000004,
            "bin_end": 3.2,
            "count": 0
           },
           {
            "bin_start": 3.2,
            "bin_end": 4,
            "count": 0
           },
           {
            "bin_start": 4,
            "bin_end": 4.800000000000001,
            "count": 0
           },
           {
            "bin_start": 4.800000000000001,
            "bin_end": 5.6000000000000005,
            "count": 0
           },
           {
            "bin_start": 5.6000000000000005,
            "bin_end": 6.4,
            "count": 1
           },
           {
            "bin_start": 6.4,
            "bin_end": 7.2,
            "count": 0
           },
           {
            "bin_start": 7.2,
            "bin_end": 8,
            "count": 1
           }
          ]
         }
        },
        {
         "name": "Glucose",
         "dtype": "int64",
         "stats": {
          "unique_count": 5,
          "nan_count": 0,
          "min": "85",
          "max": "183",
          "histogram": [
           {
            "bin_start": 85,
            "bin_end": 94.8,
            "count": 2
           },
           {
            "bin_start": 94.8,
            "bin_end": 104.6,
            "count": 0
           },
           {
            "bin_start": 104.6,
            "bin_end": 114.4,
            "count": 0
           },
           {
            "bin_start": 114.4,
            "bin_end": 124.2,
            "count": 0
           },
           {
            "bin_start": 124.2,
            "bin_end": 134,
            "count": 0
           },
           {
            "bin_start": 134,
            "bin_end": 143.8,
            "count": 1
           },
           {
            "bin_start": 143.8,
            "bin_end": 153.60000000000002,
            "count": 1
           },
           {
            "bin_start": 153.60000000000002,
            "bin_end": 163.4,
            "count": 0
           },
           {
            "bin_start": 163.4,
            "bin_end": 173.2,
            "count": 0
           },
           {
            "bin_start": 173.2,
            "bin_end": 183,
            "count": 1
           }
          ]
         }
        },
        {
         "name": "BloodPressure",
         "dtype": "int64",
         "stats": {
          "unique_count": 4,
          "nan_count": 0,
          "min": "40",
          "max": "72",
          "histogram": [
           {
            "bin_start": 40,
            "bin_end": 43.2,
            "count": 1
           },
           {
            "bin_start": 43.2,
            "bin_end": 46.4,
            "count": 0
           },
           {
            "bin_start": 46.4,
            "bin_end": 49.6,
            "count": 0
           },
           {
            "bin_start": 49.6,
            "bin_end": 52.8,
            "count": 0
           },
           {
            "bin_start": 52.8,
            "bin_end": 56,
            "count": 0
           },
           {
            "bin_start": 56,
            "bin_end": 59.2,
            "count": 0
           },
           {
            "bin_start": 59.2,
            "bin_end": 62.400000000000006,
            "count": 0
           },
           {
            "bin_start": 62.400000000000006,
            "bin_end": 65.6,
            "count": 1
           },
           {
            "bin_start": 65.6,
            "bin_end": 68.8,
            "count": 2
           },
           {
            "bin_start": 68.8,
            "bin_end": 72,
            "count": 1
           }
          ]
         }
        },
        {
         "name": "SkinThickness",
         "dtype": "int64",
         "stats": {
          "unique_count": 4,
          "nan_count": 0,
          "min": "0",
          "max": "35",
          "histogram": [
           {
            "bin_start": 0,
            "bin_end": 3.5,
            "count": 1
           },
           {
            "bin_start": 3.5,
            "bin_end": 7,
            "count": 0
           },
           {
            "bin_start": 7,
            "bin_end": 10.5,
            "count": 0
           },
           {
            "bin_start": 10.5,
            "bin_end": 14,
            "count": 0
           },
           {
            "bin_start": 14,
            "bin_end": 17.5,
            "count": 0
           },
           {
            "bin_start": 17.5,
            "bin_end": 21,
            "count": 0
           },
           {
            "bin_start": 21,
            "bin_end": 24.5,
            "count": 1
           },
           {
            "bin_start": 24.5,
            "bin_end": 28,
            "count": 0
           },
           {
            "bin_start": 28,
            "bin_end": 31.5,
            "count": 1
           },
           {
            "bin_start": 31.5,
            "bin_end": 35,
            "count": 2
           }
          ]
         }
        },
        {
         "name": "Insulin",
         "dtype": "int64",
         "stats": {
          "unique_count": 3,
          "nan_count": 0,
          "min": "0",
          "max": "168",
          "histogram": [
           {
            "bin_start": 0,
            "bin_end": 16.8,
            "count": 3
           },
           {
            "bin_start": 16.8,
            "bin_end": 33.6,
            "count": 0
           },
           {
            "bin_start": 33.6,
            "bin_end": 50.400000000000006,
            "count": 0
           },
           {
            "bin_start": 50.400000000000006,
            "bin_end": 67.2,
            "count": 0
           },
           {
            "bin_start": 67.2,
            "bin_end": 84,
            "count": 0
           },
           {
            "bin_start": 84,
            "bin_end": 100.80000000000001,
            "count": 1
           },
           {
            "bin_start": 100.80000000000001,
            "bin_end": 117.60000000000001,
            "count": 0
           },
           {
            "bin_start": 117.60000000000001,
            "bin_end": 134.4,
            "count": 0
           },
           {
            "bin_start": 134.4,
            "bin_end": 151.20000000000002,
            "count": 0
           },
           {
            "bin_start": 151.20000000000002,
            "bin_end": 168,
            "count": 1
           }
          ]
         }
        },
        {
         "name": "BMI",
         "dtype": "float64",
         "stats": {
          "unique_count": 5,
          "nan_count": 0,
          "min": "23.3",
          "max": "43.1",
          "histogram": [
           {
            "bin_start": 23.3,
            "bin_end": 25.28,
            "count": 1
           },
           {
            "bin_start": 25.28,
            "bin_end": 27.26,
            "count": 1
           },
           {
            "bin_start": 27.26,
            "bin_end": 29.240000000000002,
            "count": 1
           },
           {
            "bin_start": 29.240000000000002,
            "bin_end": 31.22,
            "count": 0
           },
           {
            "bin_start": 31.22,
            "bin_end": 33.2,
            "count": 0
           },
           {
            "bin_start": 33.2,
            "bin_end": 35.18,
            "count": 1
           },
           {
            "bin_start": 35.18,
            "bin_end": 37.16,
            "count": 0
           },
           {
            "bin_start": 37.16,
            "bin_end": 39.14,
            "count": 0
           },
           {
            "bin_start": 39.14,
            "bin_end": 41.120000000000005,
            "count": 0
           },
           {
            "bin_start": 41.120000000000005,
            "bin_end": 43.1,
            "count": 1
           }
          ]
         }
        },
        {
         "name": "DiabetesPedigreeFunction",
         "dtype": "float64",
         "stats": {
          "unique_count": 5,
          "nan_count": 0,
          "min": "0.167",
          "max": "2.288",
          "histogram": [
           {
            "bin_start": 0.167,
            "bin_end": 0.3791,
            "count": 2
           },
           {
            "bin_start": 0.3791,
            "bin_end": 0.5912000000000001,
            "count": 0
           },
           {
            "bin_start": 0.5912000000000001,
            "bin_end": 0.8033000000000001,
            "count": 2
           },
           {
            "bin_start": 0.8033000000000001,
            "bin_end": 1.0154,
            "count": 0
           },
           {
            "bin_start": 1.0154,
            "bin_end": 1.2275,
            "count": 0
           },
           {
            "bin_start": 1.2275,
            "bin_end": 1.4396000000000002,
            "count": 0
           },
           {
            "bin_start": 1.4396000000000002,
            "bin_end": 1.6517000000000002,
            "count": 0
           },
           {
            "bin_start": 1.6517000000000002,
            "bin_end": 1.8638000000000001,
            "count": 0
           },
           {
            "bin_start": 1.8638000000000001,
            "bin_end": 2.0759,
            "count": 0
           },
           {
            "bin_start": 2.0759,
            "bin_end": 2.288,
            "count": 1
           }
          ]
         }
        },
        {
         "name": "Age",
         "dtype": "int64",
         "stats": {
          "unique_count": 5,
          "nan_count": 0,
          "min": "21",
          "max": "50",
          "histogram": [
           {
            "bin_start": 21,
            "bin_end": 23.9,
            "count": 1
           },
           {
            "bin_start": 23.9,
            "bin_end": 26.8,
            "count": 0
           },
           {
            "bin_start": 26.8,
            "bin_end": 29.7,
            "count": 0
           },
           {
            "bin_start": 29.7,
            "bin_end": 32.6,
            "count": 2
           },
           {
            "bin_start": 32.6,
            "bin_end": 35.5,
            "count": 1
           },
           {
            "bin_start": 35.5,
            "bin_end": 38.4,
            "count": 0
           },
           {
            "bin_start": 38.4,
            "bin_end": 41.3,
            "count": 0
           },
           {
            "bin_start": 41.3,
            "bin_end": 44.2,
            "count": 0
           },
           {
            "bin_start": 44.2,
            "bin_end": 47.099999999999994,
            "count": 0
           },
           {
            "bin_start": 47.099999999999994,
            "bin_end": 50,
            "count": 1
           }
          ]
         }
        },
        {
         "name": "Outcome",
         "dtype": "int64",
         "stats": {
          "unique_count": 2,
          "nan_count": 0,
          "min": "0",
          "max": "1",
          "histogram": [
           {
            "bin_start": 0,
            "bin_end": 0.1,
            "count": 2
           },
           {
            "bin_start": 0.1,
            "bin_end": 0.2,
            "count": 0
           },
           {
            "bin_start": 0.2,
            "bin_end": 0.30000000000000004,
            "count": 0
           },
           {
            "bin_start": 0.30000000000000004,
            "bin_end": 0.4,
            "count": 0
           },
           {
            "bin_start": 0.4,
            "bin_end": 0.5,
            "count": 0
           },
           {
            "bin_start": 0.5,
            "bin_end": 0.6000000000000001,
            "count": 0
           },
           {
            "bin_start": 0.6000000000000001,
            "bin_end": 0.7000000000000001,
            "count": 0
           },
           {
            "bin_start": 0.7000000000000001,
            "bin_end": 0.8,
            "count": 0
           },
           {
            "bin_start": 0.8,
            "bin_end": 0.9,
            "count": 0
           },
           {
            "bin_start": 0.9,
            "bin_end": 1,
            "count": 3
           }
          ]
         }
        },
        {
         "name": "_deepnote_index_column",
         "dtype": "int64"
        }
       ],
       "rows_top": [
        {
         "Pregnancies": 6,
         "Glucose": 148,
         "BloodPressure": 72,
         "SkinThickness": 35,
         "Insulin": 0,
         "BMI": 33.6,
         "DiabetesPedigreeFunction": 0.627,
         "Age": 50,
         "Outcome": 1,
         "_deepnote_index_column": 0
        },
        {
         "Pregnancies": 1,
         "Glucose": 85,
         "BloodPressure": 66,
         "SkinThickness": 29,
         "Insulin": 0,
         "BMI": 26.6,
         "DiabetesPedigreeFunction": 0.351,
         "Age": 31,
         "Outcome": 0,
         "_deepnote_index_column": 1
        },
        {
         "Pregnancies": 8,
         "Glucose": 183,
         "BloodPressure": 64,
         "SkinThickness": 0,
         "Insulin": 0,
         "BMI": 23.3,
         "DiabetesPedigreeFunction": 0.672,
         "Age": 32,
         "Outcome": 1,
         "_deepnote_index_column": 2
        },
        {
         "Pregnancies": 1,
         "Glucose": 89,
         "BloodPressure": 66,
         "SkinThickness": 23,
         "Insulin": 94,
         "BMI": 28.1,
         "DiabetesPedigreeFunction": 0.167,
         "Age": 21,
         "Outcome": 0,
         "_deepnote_index_column": 3
        },
        {
         "Pregnancies": 0,
         "Glucose": 137,
         "BloodPressure": 40,
         "SkinThickness": 35,
         "Insulin": 168,
         "BMI": 43.1,
         "DiabetesPedigreeFunction": 2.288,
         "Age": 33,
         "Outcome": 1,
         "_deepnote_index_column": 4
        }
       ],
       "rows_bottom": null
      },
      "text/plain": "   Pregnancies  Glucose  BloodPressure  SkinThickness  Insulin   BMI  \\\n0            6      148             72             35        0  33.6   \n1            1       85             66             29        0  26.6   \n2            8      183             64              0        0  23.3   \n3            1       89             66             23       94  28.1   \n4            0      137             40             35      168  43.1   \n\n   DiabetesPedigreeFunction  Age  Outcome  \n0                     0.627   50        1  \n1                     0.351   31        0  \n2                     0.672   32        1  \n3                     0.167   21        0  \n4                     2.288   33        1  ",
      "text/html": "<div>\n<style scoped>\n    .dataframe tbody tr th:only-of-type {\n        vertical-align: middle;\n    }\n\n    .dataframe tbody tr th {\n        vertical-align: top;\n    }\n\n    .dataframe thead th {\n        text-align: right;\n    }\n</style>\n<table border=\"1\" class=\"dataframe\">\n  <thead>\n    <tr style=\"text-align: right;\">\n      <th></th>\n      <th>Pregnancies</th>\n      <th>Glucose</th>\n      <th>BloodPressure</th>\n      <th>SkinThickness</th>\n      <th>Insulin</th>\n      <th>BMI</th>\n      <th>DiabetesPedigreeFunction</th>\n      <th>Age</th>\n      <th>Outcome</th>\n    </tr>\n  </thead>\n  <tbody>\n    <tr>\n      <th>0</th>\n      <td>6</td>\n      <td>148</td>\n      <td>72</td>\n      <td>35</td>\n      <td>0</td>\n      <td>33.6</td>\n      <td>0.627</td>\n      <td>50</td>\n      <td>1</td>\n    </tr>\n    <tr>\n      <th>1</th>\n      <td>1</td>\n      <td>85</td>\n      <td>66</td>\n      <td>29</td>\n      <td>0</td>\n      <td>26.6</td>\n      <td>0.351</td>\n      <td>31</td>\n      <td>0</td>\n    </tr>\n    <tr>\n      <th>2</th>\n      <td>8</td>\n      <td>183</td>\n      <td>64</td>\n      <td>0</td>\n      <td>0</td>\n      <td>23.3</td>\n      <td>0.672</td>\n      <td>32</td>\n      <td>1</td>\n    </tr>\n    <tr>\n      <th>3</th>\n      <td>1</td>\n      <td>89</td>\n      <td>66</td>\n      <td>23</td>\n      <td>94</td>\n      <td>28.1</td>\n      <td>0.167</td>\n      <td>21</td>\n      <td>0</td>\n    </tr>\n    <tr>\n      <th>4</th>\n      <td>0</td>\n      <td>137</td>\n      <td>40</td>\n      <td>35</td>\n      <td>168</td>\n      <td>43.1</td>\n      <td>2.288</td>\n      <td>33</td>\n      <td>1</td>\n    </tr>\n  </tbody>\n</table>\n</div>"
     },
     "metadata": {}
    }
   ],
   "execution_count": null
  },
  {
   "cell_type": "code",
   "source": "diabetes.shape",
   "metadata": {
    "tags": [],
    "cell_id": "00006-797386f7-569f-48a8-ab69-fc5377af9b04",
    "deepnote_to_be_reexecuted": false,
    "source_hash": "86b6d9d8",
    "execution_start": 1632757708253,
    "execution_millis": 6,
    "deepnote_cell_type": "code"
   },
   "outputs": [
    {
     "output_type": "execute_result",
     "execution_count": 3,
     "data": {
      "text/plain": "(768, 9)"
     },
     "metadata": {}
    }
   ],
   "execution_count": null
  },
  {
   "cell_type": "code",
   "source": "feature_cols = [\n    'Pregnancies',\n    'Glucose',\n    'BloodPressure',\n    'SkinThickness',\n    'Insulin',\n    'BMI',\n    'DiabetesPedigreeFunction',\n    'Age'\n]\n\nx = diabetes[feature_cols]\ny = diabetes['Outcome']",
   "metadata": {
    "tags": [],
    "cell_id": "00007-b0d5e6f4-0f95-4cac-aa9c-ad1491bb4d51",
    "deepnote_to_be_reexecuted": false,
    "source_hash": "8cff016",
    "execution_start": 1632758050058,
    "execution_millis": 0,
    "deepnote_cell_type": "code"
   },
   "outputs": [],
   "execution_count": null
  },
  {
   "cell_type": "code",
   "source": "X_train, X_test, Y_train, Y_test = train_test_split(x, y, test_size=0.25, random_state=0)",
   "metadata": {
    "tags": [],
    "cell_id": "00008-571889dc-f0eb-4ddb-bb1c-a2ffd2495652",
    "deepnote_to_be_reexecuted": false,
    "source_hash": "38e3292a",
    "execution_start": 1632758147735,
    "execution_millis": 3,
    "deepnote_cell_type": "code"
   },
   "outputs": [],
   "execution_count": null
  },
  {
   "cell_type": "code",
   "source": "log_reg = LogisticRegression(max_iter=len(X_train))\nlog_reg.fit(X_train, Y_train)",
   "metadata": {
    "tags": [],
    "cell_id": "00009-72f037ee-efc3-4f93-bd48-045a904268b3",
    "deepnote_to_be_reexecuted": false,
    "source_hash": "cf99f805",
    "execution_start": 1632758392068,
    "execution_millis": 48,
    "deepnote_cell_type": "code"
   },
   "outputs": [
    {
     "output_type": "execute_result",
     "execution_count": 11,
     "data": {
      "text/plain": "LogisticRegression(max_iter=576)"
     },
     "metadata": {}
    }
   ],
   "execution_count": null
  },
  {
   "cell_type": "markdown",
   "source": "Dado que el número máximo de iteraciones por default en `LogisticRegression()` es 100, tenemos que ajustar este valor para que nuestras predicciones sean más precisas. Entonces ponemos `LogisticRegression(max_iter=len(X_train))`",
   "metadata": {
    "tags": [],
    "cell_id": "00010-bd5cbbff-e872-4d2e-ad1c-c33397b54271",
    "deepnote_cell_type": "markdown"
   }
  },
  {
   "cell_type": "code",
   "source": "y_pred = log_reg.predict(X_test)",
   "metadata": {
    "tags": [],
    "cell_id": "00010-d47a1960-0e9b-4a12-90a3-e9419ccf4b5a",
    "deepnote_to_be_reexecuted": false,
    "source_hash": "ca076381",
    "execution_start": 1632758397352,
    "execution_millis": 2,
    "deepnote_cell_type": "code"
   },
   "outputs": [],
   "execution_count": null
  },
  {
   "cell_type": "code",
   "source": "y_pred",
   "metadata": {
    "tags": [],
    "cell_id": "00012-20e6cd12-4e7a-485f-b37a-bd9a1cfb3255",
    "deepnote_to_be_reexecuted": false,
    "source_hash": "ba549d12",
    "execution_start": 1632758453681,
    "execution_millis": 121,
    "deepnote_cell_type": "code"
   },
   "outputs": [
    {
     "output_type": "execute_result",
     "execution_count": 13,
     "data": {
      "text/plain": "array([1, 0, 0, 1, 0, 0, 1, 1, 0, 0, 1, 1, 0, 0, 0, 0, 1, 0, 0, 0, 1, 0,\n       0, 0, 0, 0, 0, 1, 0, 0, 0, 0, 0, 0, 0, 1, 0, 0, 0, 1, 0, 0, 0, 1,\n       1, 0, 0, 0, 0, 0, 0, 0, 1, 1, 0, 0, 0, 1, 0, 0, 1, 0, 0, 1, 1, 1,\n       1, 0, 0, 0, 0, 0, 0, 1, 1, 0, 0, 1, 0, 0, 0, 0, 0, 0, 0, 0, 0, 0,\n       1, 0, 0, 0, 0, 0, 1, 0, 0, 1, 1, 0, 0, 0, 0, 0, 1, 0, 0, 0, 0, 1,\n       0, 0, 1, 0, 1, 1, 0, 1, 0, 1, 0, 0, 0, 0, 0, 0, 0, 0, 0, 0, 0, 0,\n       0, 1, 0, 0, 0, 0, 1, 0, 0, 1, 0, 0, 0, 0, 0, 0, 0, 0, 0, 1, 0, 0,\n       1, 0, 1, 0, 0, 1, 1, 1, 0, 0, 1, 0, 0, 0, 0, 0, 0, 0, 0, 0, 1, 0,\n       0, 0, 0, 0, 0, 1, 0, 1, 0, 0, 1, 0, 0, 0, 0, 0])"
     },
     "metadata": {}
    }
   ],
   "execution_count": null
  },
  {
   "cell_type": "markdown",
   "source": "## Evaluación del modelo",
   "metadata": {
    "tags": [],
    "is_collapsed": false,
    "cell_id": "00014-c542df95-0056-40e1-8fc3-2f6c9cc59d7b",
    "deepnote_cell_type": "text-cell-h2"
   }
  },
  {
   "cell_type": "markdown",
   "source": "Para evaluar la precición del modelo podemos usar una matriz de confusión y/o el método `metrics.accuracy_score()` de Scikit-Learn. Empecemos con la matriz de confusión",
   "metadata": {
    "tags": [],
    "cell_id": "00014-f92e0a88-dd60-4199-8d17-06ceec7ab32b",
    "deepnote_cell_type": "markdown"
   }
  },
  {
   "cell_type": "markdown",
   "source": "### Confusion Matrix",
   "metadata": {
    "tags": [],
    "is_collapsed": false,
    "cell_id": "00015-3a228173-a1e9-4e09-96a4-4bd316c24bd6",
    "deepnote_cell_type": "text-cell-h3"
   }
  },
  {
   "cell_type": "markdown",
   "source": "Cuando tienes un modelo de clasificación, este clasifica en *verdadero* o *falso*. Sin embargo, algunas clasificaciones serán erradas y por eso las representamos en una matriz de confusión así:\n\n![](https://miro.medium.com/max/712/1*Z54JgbS4DUwWSknhDCvNTQ.png)\n\nAlgunas fuentes, como [Wikipedia](https://en.wikipedia.org/wiki/Confusion_matrix), usan la convención de ejes anterior. Sin embargo, Scikit-Learn usa esta:\n![](https://miro.medium.com/max/648/1*bTpZwqQ_T9ghf1F1a2Xk2g.png)\n![](https://scikit-learn.org/stable/_images/sphx_glr_plot_confusion_matrix_001.png)\n\nLo que nos lleva a hacer una interpretación de la matriz de la siguiente forma:\n![](https://miro.medium.com/max/875/1*VSchph99Wiv6tQpNIvMJbw.png)\n\nSi quieres investigar más, te recomiendo estas lecturas:\n* [Confusion Matrix Visualization](https://medium.com/@dtuk81/confusion-matrix-visualization-fc31e3f30fea)\n\n* [Understanding the Confusion Matrix from Scikit learn](https://towardsdatascience.com/understanding-the-confusion-matrix-from-scikit-learn-c51d88929c79)\n\nAhora hagámoslo con código.",
   "metadata": {
    "tags": [],
    "cell_id": "00016-f798b3c6-1d1a-4015-ad5a-c05d0a8c8b64",
    "deepnote_cell_type": "markdown"
   }
  },
  {
   "cell_type": "code",
   "source": "cnf_matrix = metrics.confusion_matrix(Y_test, y_pred)\ncnf_matrix",
   "metadata": {
    "tags": [],
    "cell_id": "00017-1f490115-4a3c-4d03-90b0-ec017e328495",
    "deepnote_to_be_reexecuted": false,
    "source_hash": "4ccd4f69",
    "execution_start": 1632762501698,
    "execution_millis": 37,
    "deepnote_cell_type": "code"
   },
   "outputs": [
    {
     "output_type": "execute_result",
     "execution_count": 16,
     "data": {
      "text/plain": "array([[117,  13],\n       [ 26,  36]])"
     },
     "metadata": {}
    }
   ],
   "execution_count": null
  },
  {
   "cell_type": "code",
   "source": "df_cnf_matrix = pd.DataFrame(cnf_matrix)\ndf_cnf_matrix",
   "metadata": {
    "tags": [],
    "cell_id": "00018-eaa81449-ce70-4677-b460-6d50b78ec70c",
    "deepnote_to_be_reexecuted": false,
    "source_hash": "3506a810",
    "execution_start": 1632762769506,
    "execution_millis": 7,
    "deepnote_cell_type": "code"
   },
   "outputs": [
    {
     "output_type": "execute_result",
     "execution_count": 18,
     "data": {
      "application/vnd.deepnote.dataframe.v2+json": {
       "row_count": 2,
       "column_count": 2,
       "columns": [
        {
         "name": 0,
         "dtype": "int64",
         "stats": {
          "unique_count": 2,
          "nan_count": 0,
          "min": "26",
          "max": "117",
          "histogram": [
           {
            "bin_start": 26,
            "bin_end": 35.1,
            "count": 1
           },
           {
            "bin_start": 35.1,
            "bin_end": 44.2,
            "count": 0
           },
           {
            "bin_start": 44.2,
            "bin_end": 53.3,
            "count": 0
           },
           {
            "bin_start": 53.3,
            "bin_end": 62.4,
            "count": 0
           },
           {
            "bin_start": 62.4,
            "bin_end": 71.5,
            "count": 0
           },
           {
            "bin_start": 71.5,
            "bin_end": 80.6,
            "count": 0
           },
           {
            "bin_start": 80.6,
            "bin_end": 89.69999999999999,
            "count": 0
           },
           {
            "bin_start": 89.69999999999999,
            "bin_end": 98.8,
            "count": 0
           },
           {
            "bin_start": 98.8,
            "bin_end": 107.89999999999999,
            "count": 0
           },
           {
            "bin_start": 107.89999999999999,
            "bin_end": 117,
            "count": 1
           }
          ]
         }
        },
        {
         "name": 1,
         "dtype": "int64",
         "stats": {
          "unique_count": 2,
          "nan_count": 0,
          "min": "13",
          "max": "36",
          "histogram": [
           {
            "bin_start": 13,
            "bin_end": 15.3,
            "count": 1
           },
           {
            "bin_start": 15.3,
            "bin_end": 17.6,
            "count": 0
           },
           {
            "bin_start": 17.6,
            "bin_end": 19.9,
            "count": 0
           },
           {
            "bin_start": 19.9,
            "bin_end": 22.2,
            "count": 0
           },
           {
            "bin_start": 22.2,
            "bin_end": 24.5,
            "count": 0
           },
           {
            "bin_start": 24.5,
            "bin_end": 26.799999999999997,
            "count": 0
           },
           {
            "bin_start": 26.799999999999997,
            "bin_end": 29.099999999999998,
            "count": 0
           },
           {
            "bin_start": 29.099999999999998,
            "bin_end": 31.4,
            "count": 0
           },
           {
            "bin_start": 31.4,
            "bin_end": 33.7,
            "count": 0
           },
           {
            "bin_start": 33.7,
            "bin_end": 36,
            "count": 1
           }
          ]
         }
        },
        {
         "name": "_deepnote_index_column",
         "dtype": "int64"
        }
       ],
       "rows_top": [
        {
         "0": 117,
         "1": 13,
         "_deepnote_index_column": 0
        },
        {
         "0": 26,
         "1": 36,
         "_deepnote_index_column": 1
        }
       ],
       "rows_bottom": null
      },
      "text/plain": "     0   1\n0  117  13\n1   26  36",
      "text/html": "<div>\n<style scoped>\n    .dataframe tbody tr th:only-of-type {\n        vertical-align: middle;\n    }\n\n    .dataframe tbody tr th {\n        vertical-align: top;\n    }\n\n    .dataframe thead th {\n        text-align: right;\n    }\n</style>\n<table border=\"1\" class=\"dataframe\">\n  <thead>\n    <tr style=\"text-align: right;\">\n      <th></th>\n      <th>0</th>\n      <th>1</th>\n    </tr>\n  </thead>\n  <tbody>\n    <tr>\n      <th>0</th>\n      <td>117</td>\n      <td>13</td>\n    </tr>\n    <tr>\n      <th>1</th>\n      <td>26</td>\n      <td>36</td>\n    </tr>\n  </tbody>\n</table>\n</div>"
     },
     "metadata": {}
    }
   ],
   "execution_count": null
  },
  {
   "cell_type": "code",
   "source": "fig, ax = plt.subplots(figsize=(10, 7))\nplt.title('Matriz de confusión')\nplt.xlabel('Etiquetas de prediccion')\nplt.ylabel('Etiquetas de observación')\nplt.tight_layout()\nsns.heatmap(df_cnf_matrix, annot=True, fmt='g', cmap=\"YlGnBu\")",
   "metadata": {
    "tags": [],
    "cell_id": "00019-5cd89a78-2b2c-4166-8248-f024e374e977",
    "deepnote_to_be_reexecuted": false,
    "source_hash": "44f234e1",
    "execution_start": 1632766058356,
    "execution_millis": 350,
    "deepnote_cell_type": "code"
   },
   "outputs": [
    {
     "output_type": "execute_result",
     "execution_count": 44,
     "data": {
      "text/plain": "<AxesSubplot:title={'center':'Matriz de confusión'}>"
     },
     "metadata": {}
    },
    {
     "data": {
      "text/plain": "<Figure size 720x504 with 2 Axes>",
      "image/png": "[encoded data removed]"
     },
     "metadata": {
      "needs_background": "light",
      "image/png": {
       "width": 634,
       "height": 482
      }
     },
     "output_type": "display_data"
    }
   ],
   "execution_count": null
  },
  {
   "cell_type": "markdown",
   "source": "Nuestra matriz de confusión nos indica que tenemos:\n\n* 117 verdaderos negativos.\n* 36 verdaderos positivos.\n* 13 falsos positivos.\n* 26 falsos negativos.\n\nAhora, para cuantificar la precisión de nuestro modelo dividimos la suma de verdaderos positivos y verdaderos negativos sobre el total de los datos. En código lo hacemos así:",
   "metadata": {
    "tags": [],
    "cell_id": "00020-61bbad09-a9d6-4905-b26e-edd5460a70a6",
    "deepnote_cell_type": "markdown"
   }
  },
  {
   "cell_type": "code",
   "source": "metrics.accuracy_score(Y_test, y_pred)",
   "metadata": {
    "tags": [],
    "cell_id": "00021-910cd99e-faa6-4a53-9c74-4bc695d32e73",
    "deepnote_to_be_reexecuted": false,
    "source_hash": "19b2b4f3",
    "execution_start": 1632767012751,
    "execution_millis": 9,
    "deepnote_cell_type": "code"
   },
   "outputs": [
    {
     "output_type": "execute_result",
     "execution_count": 45,
     "data": {
      "text/plain": "0.796875"
     },
     "metadata": {}
    }
   ],
   "execution_count": null
  },
  {
   "cell_type": "markdown",
   "source": "Por lo tanto, nuestro modelo tiene una precisión del 79.7%.",
   "metadata": {
    "tags": [],
    "cell_id": "00022-b720879d-ca90-4bb0-8862-22d731f0e560",
    "deepnote_cell_type": "markdown"
   }
  },
  {
   "cell_type": "markdown",
   "source": "<a style='text-decoration:none;line-height:16px;display:flex;color:#5B5B62;padding:10px;justify-content:end;' href='https://deepnote.com?utm_source=created-in-deepnote-cell&projectId=041dfe44-1bec-412b-9d74-e111f757f0ed' target=\"_blank\">\n<img alt='Created in deepnote.com' style='display:inline;max-height:16px;margin:0px;margin-right:7.5px;' src='data:image/svg+xml;base64,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' > </img>\nCreated in <span style='font-weight:600;margin-left:4px;'>Deepnote</span></a>",
   "metadata": {
    "tags": [],
    "created_in_deepnote_cell": true,
    "deepnote_cell_type": "markdown"
   }
  }
 ],
 "nbformat": 4,
 "nbformat_minor": 2,
 "metadata": {
  "orig_nbformat": 2,
  "deepnote": {
   "is_reactive": false
  },
  "deepnote_notebook_id": "217c9529-5105-4b95-b9fb-7286cc7aa65f",
  "deepnote_execution_queue": []
 }
}