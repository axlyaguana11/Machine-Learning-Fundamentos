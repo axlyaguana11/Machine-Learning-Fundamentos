{
 "cells": [
  {
   "cell_type": "markdown",
   "source": "# ¿Qué es la predicción de datos?",
   "metadata": {
    "tags": [],
    "is_collapsed": false,
    "cell_id": "00000-5a4b7c80-dbae-47f8-8251-c7c3160ca84f",
    "deepnote_cell_type": "text-cell-h1"
   }
  },
  {
   "cell_type": "markdown",
   "source": "Son varias técnicas estadísticas aplicadas a los datos históricos para que, con base en esto, hacer predicciones de lo que podría suceder dadas ciertas características. Es inferir lo que pasará tomando en cuenta el comportamiento de los datos.",
   "metadata": {
    "tags": [],
    "cell_id": "00001-961c3239-b77d-49b3-8fe2-17a151385cd2",
    "deepnote_cell_type": "markdown"
   }
  },
  {
   "cell_type": "markdown",
   "source": "## Consideraciones para entrenar modelos",
   "metadata": {
    "tags": [],
    "is_collapsed": false,
    "cell_id": "00002-78d680e1-7477-461d-82e4-a2c77cb39ce9",
    "deepnote_cell_type": "text-cell-h2"
   }
  },
  {
   "cell_type": "markdown",
   "source": "* **Parte del problema.** Entiende lo que vas a solucionar para escoger el algoritmo adecuado.\n* **Obtén los datos.** Estos deben ser tratados con cuidado, verifica si hay nulos, etc. Divides en *trining*, *testing* y *validation*.",
   "metadata": {
    "tags": [],
    "cell_id": "00003-ef360285-d5c7-44ac-b6a8-9b91b48d4799",
    "deepnote_cell_type": "markdown"
   }
  },
  {
   "cell_type": "markdown",
   "source": "## Un ejemplo de predicción",
   "metadata": {
    "tags": [],
    "is_collapsed": false,
    "cell_id": "00004-7bf0564b-0eb3-43ac-b4bc-7da7cdc2ff08",
    "deepnote_cell_type": "text-cell-h2"
   }
  },
  {
   "cell_type": "markdown",
   "source": "Supongamos que tenemos registros históricos de muchos estudiantes. Esto incluye notas, número de materias tomadas, edad, género, horas que estudia, etc. Con esto podemos hacer un modelo para determinar el éxito de un estudiante. Entonces, cuando llegue alguien nueva o nuevo, podremos predecir si su rendimiento será ok.",
   "metadata": {
    "tags": [],
    "cell_id": "00005-c4589d24-47c2-404e-a725-8c61e83631a4",
    "deepnote_cell_type": "markdown"
   }
  },
  {
   "cell_type": "markdown",
   "source": "* FIFA 21 dataset: https://www.kaggle.com/cashncarry/fifa-22-complete-player-dataset?select=teams_fifa22.csv\n\n",
   "metadata": {
    "tags": [],
    "cell_id": "00006-891f06e2-0e51-4ed4-9f14-4e803711b680",
    "deepnote_cell_type": "markdown"
   }
  },
  {
   "cell_type": "markdown",
   "source": "# Sobreajuste y subajuste de datos",
   "metadata": {
    "tags": [],
    "is_collapsed": false,
    "cell_id": "00007-15b86666-aa17-4fd6-b80e-6d3e1c719fea",
    "deepnote_cell_type": "text-cell-h1"
   }
  },
  {
   "cell_type": "markdown",
   "source": "![Data Fitting](https://miro.medium.com/max/1200/1*YQ5tjb1TqNHenYMFk2tPog.png)",
   "metadata": {
    "tags": [],
    "cell_id": "00008-577f9370-c5a7-4a4f-95a6-8b1cb7bdd4cf",
    "deepnote_cell_type": "markdown"
   }
  },
  {
   "cell_type": "markdown",
   "source": "* **Sobreajuste.** Ocurre cuando al modelo lo obligas a aprender. Hace predicciones prácticamente perfectas, pero cuando usas otro set de datos, las predicciones pierden su eficiencia porque el aprendizaje fue muy específico. \n\n* **Subajuste.** Por lo general, ocurre cuando provees un dataset muy pequeño tal que el modelo es incapaz de aprender con muy poca información.\n\nLo ideal es encontrar un *appropriate-fitting*. ¿Cómo podemos hacer esto? Divide tus datos en un set de entrenamiento *(trining)* y otro de validación *(testing)*. La realción es 70%-80% *training*, 30%-20% *testing*. Si el modelo es muy complejo, podría necesitarse también un set de evaluación.",
   "metadata": {
    "tags": [],
    "cell_id": "00009-6f1bb255-f80d-4da8-a6a2-e4e8be8c3af6",
    "deepnote_cell_type": "markdown"
   }
  },
  {
   "cell_type": "markdown",
   "source": "<a style='text-decoration:none;line-height:16px;display:flex;color:#5B5B62;padding:10px;justify-content:end;' href='https://deepnote.com?utm_source=created-in-deepnote-cell&projectId=041dfe44-1bec-412b-9d74-e111f757f0ed' target=\"_blank\">\n<img alt='Created in deepnote.com' style='display:inline;max-height:16px;margin:0px;margin-right:7.5px;' src='data:image/svg+xml;base64,PD94bWwgdmVyc2lvbj0iMS4wIiBlbmNvZGluZz0iVVRGLTgiPz4KPHN2ZyB3aWR0aD0iODBweCIgaGVpZ2h0PSI4MHB4IiB2aWV3Qm94PSIwIDAgODAgODAiIHZlcnNpb249IjEuMSIgeG1sbnM9Imh0dHA6Ly93d3cudzMub3JnLzIwMDAvc3ZnIiB4bWxuczp4bGluaz0iaHR0cDovL3d3dy53My5vcmcvMTk5OS94bGluayI+CiAgICA8IS0tIEdlbmVyYXRvcjogU2tldGNoIDU0LjEgKDc2NDkwKSAtIGh0dHBzOi8vc2tldGNoYXBwLmNvbSAtLT4KICAgIDx0aXRsZT5Hcm91cCAzPC90aXRsZT4KICAgIDxkZXNjPkNyZWF0ZWQgd2l0aCBTa2V0Y2guPC9kZXNjPgogICAgPGcgaWQ9IkxhbmRpbmciIHN0cm9rZT0ibm9uZSIgc3Ryb2tlLXdpZHRoPSIxIiBmaWxsPSJub25lIiBmaWxsLXJ1bGU9ImV2ZW5vZGQiPgogICAgICAgIDxnIGlkPSJBcnRib2FyZCIgdHJhbnNmb3JtPSJ0cmFuc2xhdGUoLTEyMzUuMDAwMDAwLCAtNzkuMDAwMDAwKSI+CiAgICAgICAgICAgIDxnIGlkPSJHcm91cC0zIiB0cmFuc2Zvcm09InRyYW5zbGF0ZSgxMjM1LjAwMDAwMCwgNzkuMDAwMDAwKSI+CiAgICAgICAgICAgICAgICA8cG9seWdvbiBpZD0iUGF0aC0yMCIgZmlsbD0iIzAyNjVCNCIgcG9pbnRzPSIyLjM3NjIzNzYyIDgwIDM4LjA0NzY2NjcgODAgNTcuODIxNzgyMiA3My44MDU3NTkyIDU3LjgyMTc4MjIgMzIuNzU5MjczOSAzOS4xNDAyMjc4IDMxLjY4MzE2ODMiPjwvcG9seWdvbj4KICAgICAgICAgICAgICAgIDxwYXRoIGQ9Ik0zNS4wMDc3MTgsODAgQzQyLjkwNjIwMDcsNzYuNDU0OTM1OCA0Ny41NjQ5MTY3LDcxLjU0MjI2NzEgNDguOTgzODY2LDY1LjI2MTk5MzkgQzUxLjExMjI4OTksNTUuODQxNTg0MiA0MS42NzcxNzk1LDQ5LjIxMjIyODQgMjUuNjIzOTg0Niw0OS4yMTIyMjg0IEMyNS40ODQ5Mjg5LDQ5LjEyNjg0NDggMjkuODI2MTI5Niw0My4yODM4MjQ4IDM4LjY0NzU4NjksMzEuNjgzMTY4MyBMNzIuODcxMjg3MSwzMi41NTQ0MjUgTDY1LjI4MDk3Myw2Ny42NzYzNDIxIEw1MS4xMTIyODk5LDc3LjM3NjE0NCBMMzUuMDA3NzE4LDgwIFoiIGlkPSJQYXRoLTIyIiBmaWxsPSIjMDAyODY4Ij48L3BhdGg+CiAgICAgICAgICAgICAgICA8cGF0aCBkPSJNMCwzNy43MzA0NDA1IEwyNy4xMTQ1MzcsMC4yNTcxMTE0MzYgQzYyLjM3MTUxMjMsLTEuOTkwNzE3MDEgODAsMTAuNTAwMzkyNyA4MCwzNy43MzA0NDA1IEM4MCw2NC45NjA0ODgyIDY0Ljc3NjUwMzgsNzkuMDUwMzQxNCAzNC4zMjk1MTEzLDgwIEM0Ny4wNTUzNDg5LDc3LjU2NzA4MDggNTMuNDE4MjY3Nyw3MC4zMTM2MTAzIDUzLjQxODI2NzcsNTguMjM5NTg4NSBDNTMuNDE4MjY3Nyw0MC4xMjg1NTU3IDM2LjMwMzk1NDQsMzcuNzMwNDQwNSAyNS4yMjc0MTcsMzcuNzMwNDQwNSBDMTcuODQzMDU4NiwzNy43MzA0NDA1IDkuNDMzOTE5NjYsMzcuNzMwNDQwNSAwLDM3LjczMDQ0MDUgWiIgaWQ9IlBhdGgtMTkiIGZpbGw9IiMzNzkzRUYiPjwvcGF0aD4KICAgICAgICAgICAgPC9nPgogICAgICAgIDwvZz4KICAgIDwvZz4KPC9zdmc+' > </img>\nCreated in <span style='font-weight:600;margin-left:4px;'>Deepnote</span></a>",
   "metadata": {
    "tags": [],
    "created_in_deepnote_cell": true,
    "deepnote_cell_type": "markdown"
   }
  }
 ],
 "nbformat": 4,
 "nbformat_minor": 2,
 "metadata": {
  "orig_nbformat": 2,
  "deepnote": {
   "is_reactive": false
  },
  "deepnote_notebook_id": "f93031c4-1c34-4609-b121-c474adc0c142",
  "deepnote_execution_queue": []
 }
}