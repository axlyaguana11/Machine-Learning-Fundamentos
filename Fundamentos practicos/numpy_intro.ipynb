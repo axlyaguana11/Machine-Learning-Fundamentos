{
 "cells": [
  {
   "cell_type": "markdown",
   "source": "# Introducción a Numpy",
   "metadata": {
    "tags": [],
    "is_collapsed": false,
    "cell_id": "00000-fcd87a25-c7e7-4d51-b547-33d487985678",
    "deepnote_cell_type": "text-cell-h1"
   }
  },
  {
   "cell_type": "markdown",
   "source": "Numpy (Numerical Python) es una librería para manejar arreglos de datos. \n\n* Documentación: https://numpy.org/\n* Una guía de uso: https://platzi.com/blog/numpy/\n\nAhora haremos algunos ejercicios.",
   "metadata": {
    "tags": [],
    "cell_id": "00001-337d6baf-1ab5-48e5-a8eb-722a382d9de2",
    "deepnote_cell_type": "markdown"
   }
  },
  {
   "cell_type": "code",
   "source": "import numpy as np",
   "metadata": {
    "tags": [],
    "cell_id": "00002-0897b24e-25a4-4837-9a1c-00b9a8449e3a",
    "deepnote_to_be_reexecuted": false,
    "source_hash": "c2602aa8",
    "execution_start": 1632504826492,
    "execution_millis": 7,
    "deepnote_cell_type": "code"
   },
   "outputs": [],
   "execution_count": null
  },
  {
   "cell_type": "code",
   "source": "np.array([10, 20, 24, 5, 15, 50])",
   "metadata": {
    "tags": [],
    "cell_id": "00003-51553bc2-1548-4664-8756-1039d2dadb73",
    "deepnote_to_be_reexecuted": false,
    "source_hash": "d2f7ed1",
    "execution_start": 1632504876122,
    "execution_millis": 9,
    "deepnote_cell_type": "code"
   },
   "outputs": [
    {
     "output_type": "execute_result",
     "execution_count": 2,
     "data": {
      "text/plain": "array([10, 20, 24,  5, 15, 50])"
     },
     "metadata": {}
    }
   ],
   "execution_count": null
  },
  {
   "cell_type": "code",
   "source": "a = np.array([10, 30, 20, 4, 30, 51, 7, 2, 4, 40, 100])\na[4]",
   "metadata": {
    "tags": [],
    "cell_id": "00004-af0b7837-44f8-4027-8c31-a3016504d6c2",
    "deepnote_to_be_reexecuted": false,
    "source_hash": "11c860ac",
    "execution_start": 1632504899993,
    "execution_millis": 43,
    "deepnote_cell_type": "code"
   },
   "outputs": [
    {
     "output_type": "execute_result",
     "execution_count": 3,
     "data": {
      "text/plain": "30"
     },
     "metadata": {}
    }
   ],
   "execution_count": null
  },
  {
   "cell_type": "markdown",
   "source": "Para acceder a una fracción de todo el arreglo:",
   "metadata": {
    "tags": [],
    "cell_id": "00005-d8f378cf-a34b-404a-94e4-8330c5d23ab5",
    "deepnote_cell_type": "markdown"
   }
  },
  {
   "cell_type": "code",
   "source": "a[3:]",
   "metadata": {
    "tags": [],
    "cell_id": "00006-fadfbda2-492e-406b-ac61-3bf44ba436bb",
    "deepnote_to_be_reexecuted": false,
    "source_hash": "2883e967",
    "execution_start": 1632504931366,
    "execution_millis": 6,
    "deepnote_cell_type": "code"
   },
   "outputs": [
    {
     "output_type": "execute_result",
     "execution_count": 4,
     "data": {
      "text/plain": "array([  4,  30,  51,   7,   2,   4,  40, 100])"
     },
     "metadata": {}
    }
   ],
   "execution_count": null
  },
  {
   "cell_type": "code",
   "source": "a[3:7]",
   "metadata": {
    "tags": [],
    "cell_id": "00007-702ac118-6ff1-4564-9705-d5185a64680f",
    "deepnote_to_be_reexecuted": false,
    "source_hash": "b9dfce1f",
    "execution_start": 1632504957217,
    "execution_millis": 11,
    "deepnote_cell_type": "code"
   },
   "outputs": [
    {
     "output_type": "execute_result",
     "execution_count": 5,
     "data": {
      "text/plain": "array([ 4, 30, 51,  7])"
     },
     "metadata": {}
    }
   ],
   "execution_count": null
  },
  {
   "cell_type": "markdown",
   "source": "Para acceder a una porción, pero especificando el espaciado usamos doble dos puntos `::`.",
   "metadata": {
    "tags": [],
    "cell_id": "00008-1020a4d6-ebe4-4736-a41e-fe5f006ffd58",
    "deepnote_cell_type": "markdown"
   }
  },
  {
   "cell_type": "code",
   "source": "a[1::4]",
   "metadata": {
    "tags": [],
    "cell_id": "00008-6c884cc8-015b-4024-8352-76344ac18341",
    "deepnote_to_be_reexecuted": false,
    "source_hash": "7cc83a20",
    "execution_start": 1632505001112,
    "execution_millis": 7,
    "deepnote_cell_type": "code"
   },
   "outputs": [
    {
     "output_type": "execute_result",
     "execution_count": 6,
     "data": {
      "text/plain": "array([30, 51, 40])"
     },
     "metadata": {}
    }
   ],
   "execution_count": null
  },
  {
   "cell_type": "markdown",
   "source": "Puedes crear matrices de ceros o unos. Los métodos te devuelven flotantes.",
   "metadata": {
    "tags": [],
    "cell_id": "00010-93b08da0-efdc-410a-94c9-da2e73f0b812",
    "deepnote_cell_type": "markdown"
   }
  },
  {
   "cell_type": "code",
   "source": "np.zeros((3, 5))",
   "metadata": {
    "tags": [],
    "cell_id": "00011-8a3b24e2-b440-479e-be92-16264f12adcc",
    "deepnote_to_be_reexecuted": false,
    "source_hash": "47608cad",
    "execution_start": 1632505101363,
    "execution_millis": 22,
    "deepnote_cell_type": "code"
   },
   "outputs": [
    {
     "output_type": "execute_result",
     "execution_count": 8,
     "data": {
      "text/plain": "array([[0., 0., 0., 0., 0.],\n       [0., 0., 0., 0., 0.],\n       [0., 0., 0., 0., 0.]])"
     },
     "metadata": {}
    }
   ],
   "execution_count": null
  },
  {
   "cell_type": "code",
   "source": "np.ones(10)",
   "metadata": {
    "tags": [],
    "cell_id": "00012-17c8e0c0-c5cc-41d1-bfe1-f92a5b5d8de3",
    "deepnote_to_be_reexecuted": false,
    "source_hash": "2236973a",
    "execution_start": 1632505112646,
    "execution_millis": 10,
    "deepnote_cell_type": "code"
   },
   "outputs": [
    {
     "output_type": "execute_result",
     "execution_count": 9,
     "data": {
      "text/plain": "array([1., 1., 1., 1., 1., 1., 1., 1., 1., 1.])"
     },
     "metadata": {}
    }
   ],
   "execution_count": null
  },
  {
   "cell_type": "code",
   "source": "type(np.ones(10)[6])",
   "metadata": {
    "tags": [],
    "cell_id": "00013-ce87e86b-7a75-4336-8c9b-00ba379c3115",
    "deepnote_to_be_reexecuted": false,
    "source_hash": "8e7e75c6",
    "execution_start": 1632505160895,
    "execution_millis": 5,
    "deepnote_cell_type": "code"
   },
   "outputs": [
    {
     "output_type": "execute_result",
     "execution_count": 11,
     "data": {
      "text/plain": "numpy.float64"
     },
     "metadata": {}
    }
   ],
   "execution_count": null
  },
  {
   "cell_type": "markdown",
   "source": "Ordenando valores.",
   "metadata": {
    "tags": [],
    "cell_id": "00014-2bb32e7f-26ea-46d1-b8eb-ae03d7412f87",
    "deepnote_cell_type": "markdown"
   }
  },
  {
   "cell_type": "code",
   "source": "c = np.array([4, 5, 1, 34, 12, 76, 1, 2])\nnp.sort(c)",
   "metadata": {
    "tags": [],
    "cell_id": "00015-fc6d0ac3-408f-4039-9571-22a879a31a4a",
    "deepnote_to_be_reexecuted": false,
    "source_hash": "b7d77145",
    "execution_start": 1632505243863,
    "execution_millis": 9,
    "deepnote_cell_type": "code"
   },
   "outputs": [
    {
     "output_type": "execute_result",
     "execution_count": 13,
     "data": {
      "text/plain": "array([ 1,  1,  2,  4,  5, 12, 34, 76])"
     },
     "metadata": {}
    }
   ],
   "execution_count": null
  },
  {
   "cell_type": "code",
   "source": "cabeceras = [ ('nombre', 'S10' ), ('edad', int) ]\ndatos = [ ('Juan', 10), ('Maria', 70), ('Javier', 42), ('Samuel', 15) ]\nusuarios = np.array(datos, dtype = cabeceras)\n\nnp.sort(usuarios, order = 'edad' )",
   "metadata": {
    "tags": [],
    "cell_id": "00016-7906b2da-14e3-489f-8d13-7113a6386d95",
    "deepnote_to_be_reexecuted": false,
    "source_hash": "6d55a766",
    "execution_start": 1632505289193,
    "execution_millis": 12,
    "deepnote_cell_type": "code"
   },
   "outputs": [
    {
     "output_type": "execute_result",
     "execution_count": 14,
     "data": {
      "text/plain": "array([(b'Juan', 10), (b'Samuel', 15), (b'Javier', 42), (b'Maria', 70)],\n      dtype=[('nombre', 'S10'), ('edad', '<i8')])"
     },
     "metadata": {}
    }
   ],
   "execution_count": null
  },
  {
   "cell_type": "markdown",
   "source": "### Arange and linspace",
   "metadata": {
    "tags": [],
    "is_collapsed": false,
    "cell_id": "00016-2bae4e6c-263f-49a3-9a85-bee1d07d8e55",
    "deepnote_cell_type": "text-cell-h3"
   }
  },
  {
   "cell_type": "code",
   "source": "np.linspace(2, 17, 4)",
   "metadata": {
    "tags": [],
    "cell_id": "00018-4c029595-02a0-425c-b5a5-2b0254189814",
    "deepnote_to_be_reexecuted": false,
    "source_hash": "4e255d13",
    "execution_start": 1632505322608,
    "execution_millis": 7,
    "deepnote_cell_type": "code"
   },
   "outputs": [
    {
     "output_type": "execute_result",
     "execution_count": 15,
     "data": {
      "text/plain": "array([ 2.,  7., 12., 17.])"
     },
     "metadata": {}
    }
   ],
   "execution_count": null
  },
  {
   "cell_type": "code",
   "source": "np.arange(13)",
   "metadata": {
    "tags": [],
    "cell_id": "00019-80fd6b55-4091-417d-91e1-cb4463636102",
    "deepnote_to_be_reexecuted": false,
    "source_hash": "9474744e",
    "execution_start": 1632505371211,
    "execution_millis": 83,
    "deepnote_cell_type": "code"
   },
   "outputs": [
    {
     "output_type": "execute_result",
     "execution_count": 16,
     "data": {
      "text/plain": "array([ 0,  1,  2,  3,  4,  5,  6,  7,  8,  9, 10, 11, 12])"
     },
     "metadata": {}
    }
   ],
   "execution_count": null
  },
  {
   "cell_type": "code",
   "source": "np.arange(5,13)",
   "metadata": {
    "tags": [],
    "cell_id": "00020-f9c109fc-c8e0-4289-99f4-28cdc5058166",
    "deepnote_to_be_reexecuted": false,
    "source_hash": "c6684e93",
    "execution_start": 1632505381960,
    "execution_millis": 6,
    "deepnote_cell_type": "code"
   },
   "outputs": [
    {
     "output_type": "execute_result",
     "execution_count": 17,
     "data": {
      "text/plain": "array([ 5,  6,  7,  8,  9, 10, 11, 12])"
     },
     "metadata": {}
    }
   ],
   "execution_count": null
  },
  {
   "cell_type": "code",
   "source": "np.arange(2, 17, 4)",
   "metadata": {
    "tags": [],
    "cell_id": "00021-faec09af-53f5-443d-8e58-17d9c402fc9f",
    "deepnote_to_be_reexecuted": false,
    "source_hash": "84f99222",
    "execution_start": 1632505399123,
    "execution_millis": 18,
    "deepnote_cell_type": "code"
   },
   "outputs": [
    {
     "output_type": "execute_result",
     "execution_count": 18,
     "data": {
      "text/plain": "array([ 2,  6, 10, 14])"
     },
     "metadata": {}
    }
   ],
   "execution_count": null
  },
  {
   "cell_type": "code",
   "source": "np.full((3, 5), 7)",
   "metadata": {
    "tags": [],
    "cell_id": "00022-6b921704-17c6-4e03-a462-9d4a188d7b79",
    "deepnote_to_be_reexecuted": false,
    "source_hash": "d39a43e3",
    "execution_start": 1632505435867,
    "execution_millis": 18,
    "deepnote_cell_type": "code"
   },
   "outputs": [
    {
     "output_type": "execute_result",
     "execution_count": 19,
     "data": {
      "text/plain": "array([[7, 7, 7, 7, 7],\n       [7, 7, 7, 7, 7],\n       [7, 7, 7, 7, 7]])"
     },
     "metadata": {}
    }
   ],
   "execution_count": null
  },
  {
   "cell_type": "code",
   "source": "np.diag ( [0, 3, 9, 10] )",
   "metadata": {
    "tags": [],
    "cell_id": "00023-048ee1fe-a887-4ce1-a42a-b5b8cd0aa879",
    "deepnote_to_be_reexecuted": false,
    "source_hash": "ed06d6c7",
    "execution_start": 1632505445733,
    "execution_millis": 6,
    "deepnote_cell_type": "code"
   },
   "outputs": [
    {
     "output_type": "execute_result",
     "execution_count": 20,
     "data": {
      "text/plain": "array([[ 0,  0,  0,  0],\n       [ 0,  3,  0,  0],\n       [ 0,  0,  9,  0],\n       [ 0,  0,  0, 10]])"
     },
     "metadata": {}
    }
   ],
   "execution_count": null
  },
  {
   "cell_type": "markdown",
   "source": "<a style='text-decoration:none;line-height:16px;display:flex;color:#5B5B62;padding:10px;justify-content:end;' href='https://deepnote.com?utm_source=created-in-deepnote-cell&projectId=041dfe44-1bec-412b-9d74-e111f757f0ed' target=\"_blank\">\n<img alt='Created in deepnote.com' style='display:inline;max-height:16px;margin:0px;margin-right:7.5px;' src='data:image/svg+xml;base64,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' > </img>\nCreated in <span style='font-weight:600;margin-left:4px;'>Deepnote</span></a>",
   "metadata": {
    "tags": [],
    "created_in_deepnote_cell": true,
    "deepnote_cell_type": "markdown"
   }
  }
 ],
 "nbformat": 4,
 "nbformat_minor": 2,
 "metadata": {
  "orig_nbformat": 2,
  "deepnote": {
   "is_reactive": false
  },
  "deepnote_notebook_id": "318bcb60-a34c-45af-adf5-1d852633d51a",
  "deepnote_execution_queue": []
 }
}